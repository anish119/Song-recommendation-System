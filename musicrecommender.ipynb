{
 "cells": [
  {
   "cell_type": "code",
   "execution_count": 2,
   "id": "d534c0e1-92ab-4c58-b446-6f2b8ceff633",
   "metadata": {},
   "outputs": [],
   "source": [
    "import pandas as pd "
   ]
  },
  {
   "cell_type": "raw",
   "id": "eaeefc22-1634-4873-a52c-800b7cf7b0b4",
   "metadata": {},
   "source": []
  },
  {
   "cell_type": "code",
   "execution_count": 6,
   "id": "e84b5353-2b6e-41e9-9a4c-5fc2baee2ac0",
   "metadata": {},
   "outputs": [],
   "source": [
    "df = pd.read_csv(\"Spotify Million Song Dataset_exported.csv\")"
   ]
  },
  {
   "cell_type": "code",
   "execution_count": 7,
   "id": "b613ef17-2615-4f87-8d34-5bcdb504135c",
   "metadata": {},
   "outputs": [
    {
     "data": {
      "text/html": [
       "<div>\n",
       "<style scoped>\n",
       "    .dataframe tbody tr th:only-of-type {\n",
       "        vertical-align: middle;\n",
       "    }\n",
       "\n",
       "    .dataframe tbody tr th {\n",
       "        vertical-align: top;\n",
       "    }\n",
       "\n",
       "    .dataframe thead th {\n",
       "        text-align: right;\n",
       "    }\n",
       "</style>\n",
       "<table border=\"1\" class=\"dataframe\">\n",
       "  <thead>\n",
       "    <tr style=\"text-align: right;\">\n",
       "      <th></th>\n",
       "      <th>artist</th>\n",
       "      <th>song</th>\n",
       "      <th>link</th>\n",
       "      <th>text</th>\n",
       "    </tr>\n",
       "  </thead>\n",
       "  <tbody>\n",
       "    <tr>\n",
       "      <th>0</th>\n",
       "      <td>ABBA</td>\n",
       "      <td>Ahe's My Kind Of Girl</td>\n",
       "      <td>/a/abba/ahes+my+kind+of+girl_20598417.html</td>\n",
       "      <td>Look at her face, it's a wonderful face  \\nAnd...</td>\n",
       "    </tr>\n",
       "    <tr>\n",
       "      <th>1</th>\n",
       "      <td>ABBA</td>\n",
       "      <td>Andante, Andante</td>\n",
       "      <td>/a/abba/andante+andante_20002708.html</td>\n",
       "      <td>Take it easy with me, please  \\nTouch me gentl...</td>\n",
       "    </tr>\n",
       "    <tr>\n",
       "      <th>2</th>\n",
       "      <td>ABBA</td>\n",
       "      <td>As Good As New</td>\n",
       "      <td>/a/abba/as+good+as+new_20003033.html</td>\n",
       "      <td>I'll never know why I had to go  \\nWhy I had t...</td>\n",
       "    </tr>\n",
       "    <tr>\n",
       "      <th>3</th>\n",
       "      <td>ABBA</td>\n",
       "      <td>Bang</td>\n",
       "      <td>/a/abba/bang_20598415.html</td>\n",
       "      <td>Making somebody happy is a question of give an...</td>\n",
       "    </tr>\n",
       "    <tr>\n",
       "      <th>4</th>\n",
       "      <td>ABBA</td>\n",
       "      <td>Bang-A-Boomerang</td>\n",
       "      <td>/a/abba/bang+a+boomerang_20002668.html</td>\n",
       "      <td>Making somebody happy is a question of give an...</td>\n",
       "    </tr>\n",
       "  </tbody>\n",
       "</table>\n",
       "</div>"
      ],
      "text/plain": [
       "  artist                   song                                        link  \\\n",
       "0   ABBA  Ahe's My Kind Of Girl  /a/abba/ahes+my+kind+of+girl_20598417.html   \n",
       "1   ABBA       Andante, Andante       /a/abba/andante+andante_20002708.html   \n",
       "2   ABBA         As Good As New        /a/abba/as+good+as+new_20003033.html   \n",
       "3   ABBA                   Bang                  /a/abba/bang_20598415.html   \n",
       "4   ABBA       Bang-A-Boomerang      /a/abba/bang+a+boomerang_20002668.html   \n",
       "\n",
       "                                                text  \n",
       "0  Look at her face, it's a wonderful face  \\nAnd...  \n",
       "1  Take it easy with me, please  \\nTouch me gentl...  \n",
       "2  I'll never know why I had to go  \\nWhy I had t...  \n",
       "3  Making somebody happy is a question of give an...  \n",
       "4  Making somebody happy is a question of give an...  "
      ]
     },
     "execution_count": 7,
     "metadata": {},
     "output_type": "execute_result"
    }
   ],
   "source": [
    "df.head(5)"
   ]
  },
  {
   "cell_type": "code",
   "execution_count": 8,
   "id": "75e6bd5d-27ed-461c-93b3-df4380326dea",
   "metadata": {},
   "outputs": [],
   "source": [
    "df =df.sample(5000).drop('link', axis=1).reset_index(drop=True)"
   ]
  },
  {
   "cell_type": "code",
   "execution_count": 9,
   "id": "0183fb54-050f-464e-ae99-2bb63a811afa",
   "metadata": {},
   "outputs": [
    {
     "data": {
      "text/html": [
       "<div>\n",
       "<style scoped>\n",
       "    .dataframe tbody tr th:only-of-type {\n",
       "        vertical-align: middle;\n",
       "    }\n",
       "\n",
       "    .dataframe tbody tr th {\n",
       "        vertical-align: top;\n",
       "    }\n",
       "\n",
       "    .dataframe thead th {\n",
       "        text-align: right;\n",
       "    }\n",
       "</style>\n",
       "<table border=\"1\" class=\"dataframe\">\n",
       "  <thead>\n",
       "    <tr style=\"text-align: right;\">\n",
       "      <th></th>\n",
       "      <th>artist</th>\n",
       "      <th>song</th>\n",
       "      <th>text</th>\n",
       "    </tr>\n",
       "  </thead>\n",
       "  <tbody>\n",
       "    <tr>\n",
       "      <th>0</th>\n",
       "      <td>Styx</td>\n",
       "      <td>Why Me</td>\n",
       "      <td>I guess we used to be the lucky ones  \\nGood f...</td>\n",
       "    </tr>\n",
       "    <tr>\n",
       "      <th>1</th>\n",
       "      <td>Rolling Stones</td>\n",
       "      <td>Country Honk</td>\n",
       "      <td>I'm sittin' in a bar tipplin' a jar in Jackson...</td>\n",
       "    </tr>\n",
       "    <tr>\n",
       "      <th>2</th>\n",
       "      <td>Weird Al Yankovic</td>\n",
       "      <td>Llama Song</td>\n",
       "      <td>Here's a llama  \\nThere's a llama  \\nAnd anoth...</td>\n",
       "    </tr>\n",
       "    <tr>\n",
       "      <th>3</th>\n",
       "      <td>Alan Parsons Project</td>\n",
       "      <td>The Three Of Me</td>\n",
       "      <td>There's a voice on the phone  \\nWho just calle...</td>\n",
       "    </tr>\n",
       "    <tr>\n",
       "      <th>4</th>\n",
       "      <td>Marillion</td>\n",
       "      <td>Lavender</td>\n",
       "      <td>(Derek dick, Steve Rothery, Mark Kelly, Pete T...</td>\n",
       "    </tr>\n",
       "    <tr>\n",
       "      <th>5</th>\n",
       "      <td>Roy Orbison</td>\n",
       "      <td>Break My Mind</td>\n",
       "      <td>Baby, oh, baby  \\n  \\nTell the man at the tick...</td>\n",
       "    </tr>\n",
       "    <tr>\n",
       "      <th>6</th>\n",
       "      <td>Hanson</td>\n",
       "      <td>Save Me</td>\n",
       "      <td>Loving you like I never have before  \\nI'm nee...</td>\n",
       "    </tr>\n",
       "    <tr>\n",
       "      <th>7</th>\n",
       "      <td>Lucky Dube</td>\n",
       "      <td>Till You Lose It All</td>\n",
       "      <td>We take a lot of things for granted  \\nOne day...</td>\n",
       "    </tr>\n",
       "    <tr>\n",
       "      <th>8</th>\n",
       "      <td>America</td>\n",
       "      <td>Rainy Day</td>\n",
       "      <td>Whenever it's a rainy day  \\nI pack my trouble...</td>\n",
       "    </tr>\n",
       "    <tr>\n",
       "      <th>9</th>\n",
       "      <td>Faith Hill</td>\n",
       "      <td>O Come All Ye Faithful</td>\n",
       "      <td>Oh, come ye  \\nOh come ye to Bethlehem  \\nCome...</td>\n",
       "    </tr>\n",
       "  </tbody>\n",
       "</table>\n",
       "</div>"
      ],
      "text/plain": [
       "                 artist                    song  \\\n",
       "0                  Styx                  Why Me   \n",
       "1        Rolling Stones            Country Honk   \n",
       "2     Weird Al Yankovic              Llama Song   \n",
       "3  Alan Parsons Project         The Three Of Me   \n",
       "4             Marillion                Lavender   \n",
       "5           Roy Orbison           Break My Mind   \n",
       "6                Hanson                 Save Me   \n",
       "7            Lucky Dube    Till You Lose It All   \n",
       "8               America               Rainy Day   \n",
       "9            Faith Hill  O Come All Ye Faithful   \n",
       "\n",
       "                                                text  \n",
       "0  I guess we used to be the lucky ones  \\nGood f...  \n",
       "1  I'm sittin' in a bar tipplin' a jar in Jackson...  \n",
       "2  Here's a llama  \\nThere's a llama  \\nAnd anoth...  \n",
       "3  There's a voice on the phone  \\nWho just calle...  \n",
       "4  (Derek dick, Steve Rothery, Mark Kelly, Pete T...  \n",
       "5  Baby, oh, baby  \\n  \\nTell the man at the tick...  \n",
       "6  Loving you like I never have before  \\nI'm nee...  \n",
       "7  We take a lot of things for granted  \\nOne day...  \n",
       "8  Whenever it's a rainy day  \\nI pack my trouble...  \n",
       "9  Oh, come ye  \\nOh come ye to Bethlehem  \\nCome...  "
      ]
     },
     "execution_count": 9,
     "metadata": {},
     "output_type": "execute_result"
    }
   ],
   "source": [
    "df.head(10)"
   ]
  },
  {
   "cell_type": "code",
   "execution_count": 10,
   "id": "1f2f46fc-853f-4848-b738-0d04444d2de0",
   "metadata": {},
   "outputs": [],
   "source": [
    "df['text'] = df['text'].str.lower().replace(r'^\\w\\s', ' ').replace(r'\\n', ' ', regex = True)"
   ]
  },
  {
   "cell_type": "code",
   "execution_count": 13,
   "id": "93221b71-b6e8-4334-8331-5bfdcd347150",
   "metadata": {},
   "outputs": [
    {
     "data": {
      "text/html": [
       "<div>\n",
       "<style scoped>\n",
       "    .dataframe tbody tr th:only-of-type {\n",
       "        vertical-align: middle;\n",
       "    }\n",
       "\n",
       "    .dataframe tbody tr th {\n",
       "        vertical-align: top;\n",
       "    }\n",
       "\n",
       "    .dataframe thead th {\n",
       "        text-align: right;\n",
       "    }\n",
       "</style>\n",
       "<table border=\"1\" class=\"dataframe\">\n",
       "  <thead>\n",
       "    <tr style=\"text-align: right;\">\n",
       "      <th></th>\n",
       "      <th>artist</th>\n",
       "      <th>song</th>\n",
       "      <th>text</th>\n",
       "    </tr>\n",
       "  </thead>\n",
       "  <tbody>\n",
       "    <tr>\n",
       "      <th>4995</th>\n",
       "      <td>Point Of Grace</td>\n",
       "      <td>Do It Again</td>\n",
       "      <td>just when i think it couldn't be   any harder ...</td>\n",
       "    </tr>\n",
       "    <tr>\n",
       "      <th>4996</th>\n",
       "      <td>Frankie Valli</td>\n",
       "      <td>The Sun Ain't Gonna Shine Anymore</td>\n",
       "      <td>loneliness is the coat you wear   a deep shade...</td>\n",
       "    </tr>\n",
       "    <tr>\n",
       "      <th>4997</th>\n",
       "      <td>Fifth Harmony</td>\n",
       "      <td>Leave My Heart Out Of This</td>\n",
       "      <td>my heart is telling me that you were gonna cha...</td>\n",
       "    </tr>\n",
       "    <tr>\n",
       "      <th>4998</th>\n",
       "      <td>John Prine</td>\n",
       "      <td>We Could</td>\n",
       "      <td>if anyone could find the joy   that true love ...</td>\n",
       "    </tr>\n",
       "    <tr>\n",
       "      <th>4999</th>\n",
       "      <td>Scorpions</td>\n",
       "      <td>Deep And Dark</td>\n",
       "      <td>down, i am down   on the ground, sad and tired...</td>\n",
       "    </tr>\n",
       "  </tbody>\n",
       "</table>\n",
       "</div>"
      ],
      "text/plain": [
       "              artist                               song  \\\n",
       "4995  Point Of Grace                        Do It Again   \n",
       "4996   Frankie Valli  The Sun Ain't Gonna Shine Anymore   \n",
       "4997   Fifth Harmony         Leave My Heart Out Of This   \n",
       "4998      John Prine                           We Could   \n",
       "4999       Scorpions                      Deep And Dark   \n",
       "\n",
       "                                                   text  \n",
       "4995  just when i think it couldn't be   any harder ...  \n",
       "4996  loneliness is the coat you wear   a deep shade...  \n",
       "4997  my heart is telling me that you were gonna cha...  \n",
       "4998  if anyone could find the joy   that true love ...  \n",
       "4999  down, i am down   on the ground, sad and tired...  "
      ]
     },
     "execution_count": 13,
     "metadata": {},
     "output_type": "execute_result"
    }
   ],
   "source": [
    "df.tail(5)"
   ]
  },
  {
   "cell_type": "code",
   "execution_count": 14,
   "id": "37e001a0-7931-46b3-8075-9f2ff38471cf",
   "metadata": {},
   "outputs": [],
   "source": [
    "import nltk\n",
    "from nltk.stem.porter import PorterStemmer"
   ]
  },
  {
   "cell_type": "code",
   "execution_count": 23,
   "id": "3188170e-9bb6-4237-87f1-e7ffc5b3460a",
   "metadata": {},
   "outputs": [],
   "source": [
    "stemmer = PorterStemmer()\n",
    "\n",
    "def tokenization(txt):\n",
    "    tokens = nltk.word_tokenize(txt)\n",
    "    stemming = [stemmer.stem(w) for w in tokens]\n",
    "    return \" \".join(stemming)"
   ]
  },
  {
   "cell_type": "code",
   "execution_count": 24,
   "id": "0bb3d44b-933d-4bc4-ba2e-2abb868eda24",
   "metadata": {},
   "outputs": [
    {
     "data": {
      "text/plain": [
       "'you are beautiful'"
      ]
     },
     "execution_count": 24,
     "metadata": {},
     "output_type": "execute_result"
    }
   ],
   "source": [
    "tokenization('you are beautifull')"
   ]
  },
  {
   "cell_type": "code",
   "execution_count": 17,
   "id": "75569e6c-4315-4c68-b436-2ee261f89cf4",
   "metadata": {},
   "outputs": [],
   "source": [
    "df['text'] = df['text'].apply(lambda x: tokenization(x))"
   ]
  },
  {
   "cell_type": "code",
   "execution_count": 27,
   "id": "d000795d-24b5-4376-b61f-13f11c46c012",
   "metadata": {},
   "outputs": [],
   "source": [
    "from sklearn.feature_extraction.text import TfidfVectorizer\n",
    "from sklearn.metrics.pairwise import cosine_similarity"
   ]
  },
  {
   "cell_type": "code",
   "execution_count": 28,
   "id": "2dcbb64b-9444-403b-a1fe-bde1e2bcfe68",
   "metadata": {},
   "outputs": [],
   "source": [
    "tfidvector = TfidfVectorizer(analyzer='word',stop_words='english')\n",
    "matrix = tfidvector.fit_transform(df['text'])\n",
    "similarity = cosine_similarity(matrix)"
   ]
  },
  {
   "cell_type": "code",
   "execution_count": 29,
   "id": "70e85f11-35af-4940-8097-76c84bd9643e",
   "metadata": {},
   "outputs": [
    {
     "data": {
      "text/plain": [
       "array([1.        , 0.00426294, 0.00756886, ..., 0.09684561, 0.07311986,\n",
       "       0.02811694])"
      ]
     },
     "execution_count": 29,
     "metadata": {},
     "output_type": "execute_result"
    }
   ],
   "source": [
    "similarity[0]"
   ]
  },
  {
   "cell_type": "code",
   "execution_count": 30,
   "id": "e4643ab3-6c8d-4957-86ca-787f39c12ab7",
   "metadata": {},
   "outputs": [
    {
     "data": {
      "text/html": [
       "<div>\n",
       "<style scoped>\n",
       "    .dataframe tbody tr th:only-of-type {\n",
       "        vertical-align: middle;\n",
       "    }\n",
       "\n",
       "    .dataframe tbody tr th {\n",
       "        vertical-align: top;\n",
       "    }\n",
       "\n",
       "    .dataframe thead th {\n",
       "        text-align: right;\n",
       "    }\n",
       "</style>\n",
       "<table border=\"1\" class=\"dataframe\">\n",
       "  <thead>\n",
       "    <tr style=\"text-align: right;\">\n",
       "      <th></th>\n",
       "      <th>artist</th>\n",
       "      <th>song</th>\n",
       "      <th>text</th>\n",
       "    </tr>\n",
       "  </thead>\n",
       "  <tbody>\n",
       "    <tr>\n",
       "      <th>4291</th>\n",
       "      <td>UB40</td>\n",
       "      <td>Crying Over You</td>\n",
       "      <td>cri over you in the morn cri over you in the e...</td>\n",
       "    </tr>\n",
       "    <tr>\n",
       "      <th>4632</th>\n",
       "      <td>ABBA</td>\n",
       "      <td>Crying Over You</td>\n",
       "      <td>i 'm waitin ' for you babi i 'm sit all alon i...</td>\n",
       "    </tr>\n",
       "  </tbody>\n",
       "</table>\n",
       "</div>"
      ],
      "text/plain": [
       "     artist             song  \\\n",
       "4291   UB40  Crying Over You   \n",
       "4632   ABBA  Crying Over You   \n",
       "\n",
       "                                                   text  \n",
       "4291  cri over you in the morn cri over you in the e...  \n",
       "4632  i 'm waitin ' for you babi i 'm sit all alon i...  "
      ]
     },
     "execution_count": 30,
     "metadata": {},
     "output_type": "execute_result"
    }
   ],
   "source": [
    "df[df['song'] == 'Crying Over You']"
   ]
  },
  {
   "cell_type": "code",
   "execution_count": 31,
   "id": "bbafe855-992c-4852-bdc8-79ad91553d87",
   "metadata": {},
   "outputs": [],
   "source": [
    "def recommendation(song_df):\n",
    "    idx = df[df['song'] == song_df].index[0]\n",
    "    distances = sorted(list(enumerate(similarity[idx])),reverse=True,key=lambda x:x[1])\n",
    "    \n",
    "    songs = []\n",
    "    for m_id in distances[1:21]:\n",
    "        songs.append(df.iloc[m_id[0]].song)\n",
    "        \n",
    "    return songs"
   ]
  },
  {
   "cell_type": "code",
   "execution_count": 32,
   "id": "05249f0d-db6d-4f22-83b9-830a133b5c03",
   "metadata": {},
   "outputs": [
    {
     "data": {
      "text/plain": [
       "[\"I'm Gonna Cry (Cry Baby)\",\n",
       " 'Crying',\n",
       " \"Don't Cry\",\n",
       " \"My Eyes Don't Cry\",\n",
       " \"Don't Cry Sister\",\n",
       " 'Cry Me A River',\n",
       " 'Crying',\n",
       " 'Breathe A Sigh',\n",
       " \"Don't Cry Baby\",\n",
       " 'You Made Me Love You',\n",
       " 'Place To Hide And Cry',\n",
       " \"Don't Cry No More\",\n",
       " 'Cry',\n",
       " \"Heroes Don't Cry\",\n",
       " 'I Wish It Would Rain',\n",
       " 'Somewhere Tonight',\n",
       " \"I'm So Lonesome I Could Cry\",\n",
       " 'I Cried Again',\n",
       " 'WHY SHOULD I CRY',\n",
       " 'Everyday']"
      ]
     },
     "execution_count": 32,
     "metadata": {},
     "output_type": "execute_result"
    }
   ],
   "source": [
    "recommendation('Crying Over You')"
   ]
  },
  {
   "cell_type": "code",
   "execution_count": 33,
   "id": "70a978e9-7700-4d60-8f4d-dd04f9fb8f4b",
   "metadata": {},
   "outputs": [],
   "source": [
    "import pickle\n",
    "pickle.dump(similarity,open('similarity.pkl','wb'))\n",
    "pickle.dump(df,open('df.pkl','wb'))"
   ]
  },
  {
   "cell_type": "code",
   "execution_count": null,
   "id": "f7ecac3e-27fc-4d73-b221-32c44242ab6a",
   "metadata": {},
   "outputs": [],
   "source": []
  }
 ],
 "metadata": {
  "kernelspec": {
   "display_name": "Python 3 (ipykernel)",
   "language": "python",
   "name": "python3"
  },
  "language_info": {
   "codemirror_mode": {
    "name": "ipython",
    "version": 3
   },
   "file_extension": ".py",
   "mimetype": "text/x-python",
   "name": "python",
   "nbconvert_exporter": "python",
   "pygments_lexer": "ipython3",
   "version": "3.12.2"
  }
 },
 "nbformat": 4,
 "nbformat_minor": 5
}
